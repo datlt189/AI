{
  "nbformat": 4,
  "nbformat_minor": 0,
  "metadata": {
    "colab": {
      "provenance": [],
      "authorship_tag": "ABX9TyPihrbsEhaGvA3m1Wis3Q6t",
      "include_colab_link": true
    },
    "kernelspec": {
      "name": "python3",
      "display_name": "Python 3"
    },
    "language_info": {
      "name": "python"
    }
  },
  "cells": [
    {
      "cell_type": "markdown",
      "metadata": {
        "id": "view-in-github",
        "colab_type": "text"
      },
      "source": [
        "<a href=\"https://colab.research.google.com/github/datlt189/AI_LeTienDat_20146151/blob/main/Baitap13_2_23.ipynb\" target=\"_parent\"><img src=\"https://colab.research.google.com/assets/colab-badge.svg\" alt=\"Open In Colab\"/></a>"
      ]
    },
    {
      "cell_type": "code",
      "execution_count": 16,
      "metadata": {
        "colab": {
          "base_uri": "https://localhost:8080/"
        },
        "id": "2A-A_V-M1wyz",
        "outputId": "691d829c-5ded-4e43-e889-32754c52cea9"
      },
      "outputs": [
        {
          "output_type": "stream",
          "name": "stdout",
          "text": [
            "Số huy chương của CAN: 119\n",
            "Số huy chương chương vàng theo môn cá nhân: 65\n"
          ]
        }
      ],
      "source": [
        "import pandas as pandas\n",
        "url= 'http://winterolympicsmedals.com/medals.csv'\n",
        "data= pd.read_csv(url)\n",
        "datas=data[(data['NOC'] =='CAN')]\n",
        "print(\"Số huy chương của CAN:\",datas['Medal'].count())\n",
        "data1=data[(data['Event'] =='individual') & (data['Medal']=='Gold')] \n",
        "print(\"Số huy chương chương vàng theo môn cá nhân:\",data1['Event'].count())\n",
        "\n"
      ]
    }
  ]
}