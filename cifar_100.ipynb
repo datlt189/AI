{
  "nbformat": 4,
  "nbformat_minor": 0,
  "metadata": {
    "colab": {
      "provenance": [],
      "mount_file_id": "1xhNt9Lehbp_xJvEvRGU0XxCXGkDPth3l",
      "authorship_tag": "ABX9TyNX2Qr4wtonczjehn0jW9So",
      "include_colab_link": true
    },
    "kernelspec": {
      "name": "python3",
      "display_name": "Python 3"
    },
    "language_info": {
      "name": "python"
    }
  },
  "cells": [
    {
      "cell_type": "markdown",
      "metadata": {
        "id": "view-in-github",
        "colab_type": "text"
      },
      "source": [
        "<a href=\"https://colab.research.google.com/github/datlt189/AI_LeTienDat_20146151/blob/main/cifar_100.ipynb\" target=\"_parent\"><img src=\"https://colab.research.google.com/assets/colab-badge.svg\" alt=\"Open In Colab\"/></a>"
      ]
    },
    {
      "cell_type": "code",
      "execution_count": 21,
      "metadata": {
        "id": "QNVnSFWKvYVN"
      },
      "outputs": [],
      "source": [
        "from keras.datasets import cifar100\n",
        "from keras.utils import to_categorical\n",
        "from keras.models import Sequential\n",
        "from keras.layers import Dense\n",
        "import matplotlib.pyplot as plt"
      ]
    },
    {
      "cell_type": "code",
      "source": [
        "(x_train, y_train), (x_test, y_test) = cifar100.load_data()\n",
        "print(x_train.shape)\n",
        "print(x_test.shape)\n",
        "print(y_train.shape)\n",
        "print(y_test.shape)"
      ],
      "metadata": {
        "colab": {
          "base_uri": "https://localhost:8080/"
        },
        "id": "6G-fsn_X2OeY",
        "outputId": "c609fa3e-9e66-4af5-8113-3c21599d6699"
      },
      "execution_count": 22,
      "outputs": [
        {
          "output_type": "stream",
          "name": "stdout",
          "text": [
            "(50000, 32, 32, 3)\n",
            "(10000, 32, 32, 3)\n",
            "(50000, 1)\n",
            "(10000, 1)\n"
          ]
        }
      ]
    },
    {
      "cell_type": "code",
      "source": [
        "x_train = x_train.reshape(50000,32*32*3)\n",
        "x_train = x_train.astype('float32')/255\n",
        "x_test = x_test.reshape(10000,32*32*3)\n",
        "x_test = x_test.astype('float32')/255\n",
        "\n",
        "y_train = to_categorical(y_train,100)\n",
        "y_test = to_categorical(y_test,100)"
      ],
      "metadata": {
        "id": "xdCjwlsyx6aN"
      },
      "execution_count": 23,
      "outputs": []
    },
    {
      "cell_type": "code",
      "source": [
        "model = Sequential()\n",
        "model.add(Dense(2000, input_shape=(32*32*3,), activation='relu'))\n",
        "model.add(Dense(1000, activation='relu'))\n",
        "model.add(Dense(100, activation = 'softmax'))\n",
        "model.summary()"
      ],
      "metadata": {
        "colab": {
          "base_uri": "https://localhost:8080/"
        },
        "id": "nkon0SfE3Unw",
        "outputId": "e261cc33-1585-454b-ba62-9eb1d87bf591"
      },
      "execution_count": 24,
      "outputs": [
        {
          "output_type": "stream",
          "name": "stdout",
          "text": [
            "Model: \"sequential_5\"\n",
            "_________________________________________________________________\n",
            " Layer (type)                Output Shape              Param #   \n",
            "=================================================================\n",
            " dense_18 (Dense)            (None, 2000)              6146000   \n",
            "                                                                 \n",
            " dense_19 (Dense)            (None, 1000)              2001000   \n",
            "                                                                 \n",
            " dense_20 (Dense)            (None, 100)               100100    \n",
            "                                                                 \n",
            "=================================================================\n",
            "Total params: 8,247,100\n",
            "Trainable params: 8,247,100\n",
            "Non-trainable params: 0\n",
            "_________________________________________________________________\n"
          ]
        }
      ]
    },
    {
      "cell_type": "code",
      "source": [
        "model.compile(optimizer='rmsprop', loss='categorical_crossentropy', metrics=['accuracy'])\n",
        "\n",
        "model.fit(x_train, y_train, epochs=10, batch_size=128)\n",
        "\n",
        "test_loss, test_acc = model.evaluate(x_test, y_test)\n",
        "print('Test accuracy:', test_acc)\n",
        "print('Test loss:', test_loss)\n",
        "\n"
      ],
      "metadata": {
        "colab": {
          "base_uri": "https://localhost:8080/"
        },
        "id": "2zGt-I014izu",
        "outputId": "43a6b790-6da6-4c9e-9ea2-2b4ff44a122c"
      },
      "execution_count": 25,
      "outputs": [
        {
          "output_type": "stream",
          "name": "stdout",
          "text": [
            "Epoch 1/10\n",
            "391/391 [==============================] - 72s 183ms/step - loss: 4.2820 - accuracy: 0.0683\n",
            "Epoch 2/10\n",
            "391/391 [==============================] - 71s 182ms/step - loss: 3.7233 - accuracy: 0.1319\n",
            "Epoch 3/10\n",
            "391/391 [==============================] - 71s 181ms/step - loss: 3.5460 - accuracy: 0.1639\n",
            "Epoch 4/10\n",
            "391/391 [==============================] - 73s 186ms/step - loss: 3.4133 - accuracy: 0.1884\n",
            "Epoch 5/10\n",
            "391/391 [==============================] - 72s 184ms/step - loss: 3.3113 - accuracy: 0.2061\n",
            "Epoch 6/10\n",
            "391/391 [==============================] - 70s 178ms/step - loss: 3.2274 - accuracy: 0.2220\n",
            "Epoch 7/10\n",
            "391/391 [==============================] - 72s 185ms/step - loss: 3.1391 - accuracy: 0.2385\n",
            "Epoch 8/10\n",
            "391/391 [==============================] - 70s 178ms/step - loss: 3.0632 - accuracy: 0.2509\n",
            "Epoch 9/10\n",
            "391/391 [==============================] - 71s 183ms/step - loss: 2.9876 - accuracy: 0.2681\n",
            "Epoch 10/10\n",
            "391/391 [==============================] - 71s 180ms/step - loss: 2.9155 - accuracy: 0.2791\n",
            "313/313 [==============================] - 9s 27ms/step - loss: 3.3929 - accuracy: 0.2172\n",
            "Test accuracy: 0.21719999611377716\n",
            "Test loss: 3.392880439758301\n"
          ]
        }
      ]
    },
    {
      "cell_type": "code",
      "source": [
        "model.save('/content/drive/MyDrive/model_colab/cifar100.h5')"
      ],
      "metadata": {
        "id": "x7XKTDns5izb"
      },
      "execution_count": 19,
      "outputs": []
    }
  ]
}