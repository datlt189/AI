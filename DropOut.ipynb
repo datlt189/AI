{
  "nbformat": 4,
  "nbformat_minor": 0,
  "metadata": {
    "colab": {
      "provenance": [],
      "mount_file_id": "1FoctbgrpPfGkm6gNuQMoR-iMgp757Jva",
      "authorship_tag": "ABX9TyMH8SYhYerAMLGdhSEiHnQu",
      "include_colab_link": true
    },
    "kernelspec": {
      "name": "python3",
      "display_name": "Python 3"
    },
    "language_info": {
      "name": "python"
    },
    "accelerator": "GPU",
    "gpuClass": "standard"
  },
  "cells": [
    {
      "cell_type": "markdown",
      "metadata": {
        "id": "view-in-github",
        "colab_type": "text"
      },
      "source": [
        "<a href=\"https://colab.research.google.com/github/datlt189/AI_LeTienDat_20146151/blob/main/DropOut.ipynb\" target=\"_parent\"><img src=\"https://colab.research.google.com/assets/colab-badge.svg\" alt=\"Open In Colab\"/></a>"
      ]
    },
    {
      "cell_type": "code",
      "execution_count": 1,
      "metadata": {
        "id": "QNVnSFWKvYVN",
        "colab": {
          "base_uri": "https://localhost:8080/"
        },
        "outputId": "aeb62d3c-568e-482b-d91e-078fb2620cab"
      },
      "outputs": [
        {
          "output_type": "stream",
          "name": "stdout",
          "text": [
            "Downloading data from https://www.cs.toronto.edu/~kriz/cifar-100-python.tar.gz\n",
            "169001437/169001437 [==============================] - 4s 0us/step\n",
            "Training images shape: (50000, 32, 32, 3)\n",
            "Training labels shape: (50000, 100)\n",
            "Testing images shape: (10000, 32, 32, 3)\n",
            "Testing labels shape: (10000, 100)\n"
          ]
        }
      ],
      "source": [
        "from keras.datasets import cifar100\n",
        "from keras.utils import to_categorical\n",
        "import numpy as np\n",
        "\n",
        "# Load the CIFAR-100 dataset\n",
        "(train_images, train_labels), (test_images, test_labels) = cifar100.load_data()\n",
        "\n",
        "# Convert pixel values to float and normalize them\n",
        "train_images = train_images.astype('float32') / 255\n",
        "test_images = test_images.astype('float32') / 255\n",
        "\n",
        "# Convert labels to one-hot encoded vectors\n",
        "train_labels = to_categorical(train_labels, 100)\n",
        "test_labels = to_categorical(test_labels, 100)\n",
        "\n",
        "# Print the shapes of the training and testing data\n",
        "print('Training images shape:', train_images.shape)\n",
        "print('Training labels shape:', train_labels.shape)\n",
        "print('Testing images shape:', test_images.shape)\n",
        "print('Testing labels shape:', test_labels.shape)"
      ]
    },
    {
      "cell_type": "code",
      "source": [
        "from keras.models import Sequential\n",
        "from keras.layers import Conv2D, MaxPooling2D, Dropout, Flatten, Dense\n",
        "\n",
        "model = Sequential()\n",
        "\n",
        "# Convolutional layers\n",
        "model.add(Conv2D(64, (3, 3), activation='relu', padding='same', input_shape=(32, 32, 3)))\n",
        "model.add(Conv2D(64, (3, 3), activation='relu', padding='same'))\n",
        "model.add(MaxPooling2D(pool_size=(2, 2)))\n",
        "model.add(Dropout(0.25))\n",
        "\n",
        "model.add(Conv2D(128, (3, 3), activation='relu', padding='same'))\n",
        "model.add(Conv2D(128, (3, 3), activation='relu', padding='same'))\n",
        "model.add(MaxPooling2D(pool_size=(2, 2)))\n",
        "model.add(Dropout(0.25))\n",
        "\n",
        "model.add(Conv2D(256, (3, 3), activation='relu', padding='same'))\n",
        "model.add(Conv2D(256, (3, 3), activation='relu', padding='same'))\n",
        "model.add(MaxPooling2D(pool_size=(2, 2)))\n",
        "model.add(Dropout(0.25))\n",
        "\n",
        "# Flatten layer\n",
        "model.add(Flatten())\n",
        "\n",
        "# Fully connected layers\n",
        "model.add(Dense(512, activation='relu'))\n",
        "model.add(Dropout(0.5))\n",
        "model.add(Dense(100, activation='softmax'))\n",
        "\n",
        "model.summary()"
      ],
      "metadata": {
        "colab": {
          "base_uri": "https://localhost:8080/"
        },
        "id": "yk-WGevF3WnK",
        "outputId": "7acfebff-022d-4af4-a8e2-99594e5d8e40"
      },
      "execution_count": 2,
      "outputs": [
        {
          "output_type": "stream",
          "name": "stdout",
          "text": [
            "Model: \"sequential\"\n",
            "_________________________________________________________________\n",
            " Layer (type)                Output Shape              Param #   \n",
            "=================================================================\n",
            " conv2d (Conv2D)             (None, 32, 32, 64)        1792      \n",
            "                                                                 \n",
            " conv2d_1 (Conv2D)           (None, 32, 32, 64)        36928     \n",
            "                                                                 \n",
            " max_pooling2d (MaxPooling2D  (None, 16, 16, 64)       0         \n",
            " )                                                               \n",
            "                                                                 \n",
            " dropout (Dropout)           (None, 16, 16, 64)        0         \n",
            "                                                                 \n",
            " conv2d_2 (Conv2D)           (None, 16, 16, 128)       73856     \n",
            "                                                                 \n",
            " conv2d_3 (Conv2D)           (None, 16, 16, 128)       147584    \n",
            "                                                                 \n",
            " max_pooling2d_1 (MaxPooling  (None, 8, 8, 128)        0         \n",
            " 2D)                                                             \n",
            "                                                                 \n",
            " dropout_1 (Dropout)         (None, 8, 8, 128)         0         \n",
            "                                                                 \n",
            " conv2d_4 (Conv2D)           (None, 8, 8, 256)         295168    \n",
            "                                                                 \n",
            " conv2d_5 (Conv2D)           (None, 8, 8, 256)         590080    \n",
            "                                                                 \n",
            " max_pooling2d_2 (MaxPooling  (None, 4, 4, 256)        0         \n",
            " 2D)                                                             \n",
            "                                                                 \n",
            " dropout_2 (Dropout)         (None, 4, 4, 256)         0         \n",
            "                                                                 \n",
            " flatten (Flatten)           (None, 4096)              0         \n",
            "                                                                 \n",
            " dense (Dense)               (None, 512)               2097664   \n",
            "                                                                 \n",
            " dropout_3 (Dropout)         (None, 512)               0         \n",
            "                                                                 \n",
            " dense_1 (Dense)             (None, 100)               51300     \n",
            "                                                                 \n",
            "=================================================================\n",
            "Total params: 3,294,372\n",
            "Trainable params: 3,294,372\n",
            "Non-trainable params: 0\n",
            "_________________________________________________________________\n"
          ]
        }
      ]
    },
    {
      "cell_type": "code",
      "source": [
        "# Compile the model\n",
        "model.compile(optimizer='adam', loss='categorical_crossentropy', metrics=['accuracy'])\n",
        "\n",
        "# Train the model\n",
        "history = model.fit(train_images, train_labels, epochs=100, batch_size=128, validation_data=(test_images, test_labels))"
      ],
      "metadata": {
        "colab": {
          "base_uri": "https://localhost:8080/"
        },
        "id": "OH-KPemM3uPN",
        "outputId": "573e80e5-fab4-455d-d038-d5d159bcab68"
      },
      "execution_count": 3,
      "outputs": [
        {
          "output_type": "stream",
          "name": "stdout",
          "text": [
            "Epoch 1/100\n",
            "391/391 [==============================] - 27s 34ms/step - loss: 4.4141 - accuracy: 0.0263 - val_loss: 3.9716 - val_accuracy: 0.0827\n",
            "Epoch 2/100\n",
            "391/391 [==============================] - 12s 31ms/step - loss: 3.8103 - accuracy: 0.1083 - val_loss: 3.4237 - val_accuracy: 0.1777\n",
            "Epoch 3/100\n",
            "391/391 [==============================] - 13s 32ms/step - loss: 3.4145 - accuracy: 0.1780 - val_loss: 3.0861 - val_accuracy: 0.2475\n",
            "Epoch 4/100\n",
            "391/391 [==============================] - 12s 31ms/step - loss: 3.1429 - accuracy: 0.2317 - val_loss: 2.8432 - val_accuracy: 0.2930\n",
            "Epoch 5/100\n",
            "391/391 [==============================] - 12s 31ms/step - loss: 2.9438 - accuracy: 0.2689 - val_loss: 2.6794 - val_accuracy: 0.3262\n",
            "Epoch 6/100\n",
            "391/391 [==============================] - 12s 31ms/step - loss: 2.7848 - accuracy: 0.2989 - val_loss: 2.5517 - val_accuracy: 0.3533\n",
            "Epoch 7/100\n",
            "391/391 [==============================] - 13s 33ms/step - loss: 2.6606 - accuracy: 0.3249 - val_loss: 2.4875 - val_accuracy: 0.3630\n",
            "Epoch 8/100\n",
            "391/391 [==============================] - 12s 31ms/step - loss: 2.5474 - accuracy: 0.3442 - val_loss: 2.4038 - val_accuracy: 0.3793\n",
            "Epoch 9/100\n",
            "391/391 [==============================] - 12s 31ms/step - loss: 2.4598 - accuracy: 0.3632 - val_loss: 2.3608 - val_accuracy: 0.3932\n",
            "Epoch 10/100\n",
            "391/391 [==============================] - 12s 31ms/step - loss: 2.3710 - accuracy: 0.3811 - val_loss: 2.2713 - val_accuracy: 0.4170\n",
            "Epoch 11/100\n",
            "391/391 [==============================] - 12s 31ms/step - loss: 2.3011 - accuracy: 0.3959 - val_loss: 2.2402 - val_accuracy: 0.4215\n",
            "Epoch 12/100\n",
            "391/391 [==============================] - 12s 31ms/step - loss: 2.2366 - accuracy: 0.4079 - val_loss: 2.1894 - val_accuracy: 0.4320\n",
            "Epoch 13/100\n",
            "391/391 [==============================] - 12s 31ms/step - loss: 2.1818 - accuracy: 0.4202 - val_loss: 2.1858 - val_accuracy: 0.4299\n",
            "Epoch 14/100\n",
            "391/391 [==============================] - 12s 31ms/step - loss: 2.1308 - accuracy: 0.4290 - val_loss: 2.1076 - val_accuracy: 0.4472\n",
            "Epoch 15/100\n",
            "391/391 [==============================] - 12s 31ms/step - loss: 2.0599 - accuracy: 0.4471 - val_loss: 2.1524 - val_accuracy: 0.4428\n",
            "Epoch 16/100\n",
            "391/391 [==============================] - 12s 31ms/step - loss: 2.0186 - accuracy: 0.4547 - val_loss: 2.1000 - val_accuracy: 0.4547\n",
            "Epoch 17/100\n",
            "391/391 [==============================] - 12s 31ms/step - loss: 1.9781 - accuracy: 0.4609 - val_loss: 2.0443 - val_accuracy: 0.4675\n",
            "Epoch 18/100\n",
            "391/391 [==============================] - 12s 31ms/step - loss: 1.9272 - accuracy: 0.4756 - val_loss: 2.0661 - val_accuracy: 0.4571\n",
            "Epoch 19/100\n",
            "391/391 [==============================] - 12s 31ms/step - loss: 1.8963 - accuracy: 0.4824 - val_loss: 2.0582 - val_accuracy: 0.4626\n",
            "Epoch 20/100\n",
            "391/391 [==============================] - 12s 31ms/step - loss: 1.8576 - accuracy: 0.4905 - val_loss: 2.0444 - val_accuracy: 0.4709\n",
            "Epoch 21/100\n",
            "391/391 [==============================] - 12s 31ms/step - loss: 1.8215 - accuracy: 0.4977 - val_loss: 2.0074 - val_accuracy: 0.4723\n",
            "Epoch 22/100\n",
            "391/391 [==============================] - 12s 31ms/step - loss: 1.7909 - accuracy: 0.5064 - val_loss: 2.0244 - val_accuracy: 0.4704\n",
            "Epoch 23/100\n",
            "391/391 [==============================] - 12s 31ms/step - loss: 1.7673 - accuracy: 0.5107 - val_loss: 1.9843 - val_accuracy: 0.4825\n",
            "Epoch 24/100\n",
            "391/391 [==============================] - 12s 31ms/step - loss: 1.7246 - accuracy: 0.5191 - val_loss: 2.0497 - val_accuracy: 0.4711\n",
            "Epoch 25/100\n",
            "391/391 [==============================] - 12s 31ms/step - loss: 1.7039 - accuracy: 0.5269 - val_loss: 2.0267 - val_accuracy: 0.4715\n",
            "Epoch 26/100\n",
            "391/391 [==============================] - 12s 31ms/step - loss: 1.6736 - accuracy: 0.5303 - val_loss: 2.0759 - val_accuracy: 0.4668\n",
            "Epoch 27/100\n",
            "391/391 [==============================] - 12s 31ms/step - loss: 1.6490 - accuracy: 0.5377 - val_loss: 1.9932 - val_accuracy: 0.4841\n",
            "Epoch 28/100\n",
            "391/391 [==============================] - 12s 31ms/step - loss: 1.6278 - accuracy: 0.5417 - val_loss: 1.9635 - val_accuracy: 0.4882\n",
            "Epoch 29/100\n",
            "391/391 [==============================] - 12s 31ms/step - loss: 1.6007 - accuracy: 0.5478 - val_loss: 1.9925 - val_accuracy: 0.4830\n",
            "Epoch 30/100\n",
            "391/391 [==============================] - 12s 31ms/step - loss: 1.5828 - accuracy: 0.5538 - val_loss: 1.9954 - val_accuracy: 0.4899\n",
            "Epoch 31/100\n",
            "391/391 [==============================] - 12s 31ms/step - loss: 1.5643 - accuracy: 0.5580 - val_loss: 1.9500 - val_accuracy: 0.4906\n",
            "Epoch 32/100\n",
            "391/391 [==============================] - 12s 31ms/step - loss: 1.5439 - accuracy: 0.5624 - val_loss: 1.9729 - val_accuracy: 0.4904\n",
            "Epoch 33/100\n",
            "391/391 [==============================] - 12s 31ms/step - loss: 1.5188 - accuracy: 0.5678 - val_loss: 1.9682 - val_accuracy: 0.4914\n",
            "Epoch 34/100\n",
            "391/391 [==============================] - 12s 31ms/step - loss: 1.4990 - accuracy: 0.5742 - val_loss: 2.0195 - val_accuracy: 0.4845\n",
            "Epoch 35/100\n",
            "391/391 [==============================] - 12s 31ms/step - loss: 1.4979 - accuracy: 0.5711 - val_loss: 2.0025 - val_accuracy: 0.4889\n",
            "Epoch 36/100\n",
            "391/391 [==============================] - 12s 31ms/step - loss: 1.4715 - accuracy: 0.5797 - val_loss: 1.9863 - val_accuracy: 0.4896\n",
            "Epoch 37/100\n",
            "391/391 [==============================] - 12s 31ms/step - loss: 1.4645 - accuracy: 0.5811 - val_loss: 1.9703 - val_accuracy: 0.4980\n",
            "Epoch 38/100\n",
            "391/391 [==============================] - 12s 31ms/step - loss: 1.4404 - accuracy: 0.5863 - val_loss: 1.9723 - val_accuracy: 0.4948\n",
            "Epoch 39/100\n",
            "391/391 [==============================] - 12s 31ms/step - loss: 1.4183 - accuracy: 0.5889 - val_loss: 1.9855 - val_accuracy: 0.4975\n",
            "Epoch 40/100\n",
            "391/391 [==============================] - 12s 31ms/step - loss: 1.3943 - accuracy: 0.5966 - val_loss: 2.0049 - val_accuracy: 0.4905\n",
            "Epoch 41/100\n",
            "391/391 [==============================] - 12s 31ms/step - loss: 1.3884 - accuracy: 0.6024 - val_loss: 2.0038 - val_accuracy: 0.4938\n",
            "Epoch 42/100\n",
            "391/391 [==============================] - 12s 31ms/step - loss: 1.3804 - accuracy: 0.6012 - val_loss: 2.0055 - val_accuracy: 0.4957\n",
            "Epoch 43/100\n",
            "391/391 [==============================] - 12s 31ms/step - loss: 1.3536 - accuracy: 0.6090 - val_loss: 2.0295 - val_accuracy: 0.4881\n",
            "Epoch 44/100\n",
            "391/391 [==============================] - 12s 31ms/step - loss: 1.3380 - accuracy: 0.6130 - val_loss: 1.9818 - val_accuracy: 0.4942\n",
            "Epoch 45/100\n",
            "391/391 [==============================] - 12s 31ms/step - loss: 1.3312 - accuracy: 0.6135 - val_loss: 1.9850 - val_accuracy: 0.4973\n",
            "Epoch 46/100\n",
            "391/391 [==============================] - 12s 31ms/step - loss: 1.3121 - accuracy: 0.6177 - val_loss: 2.0201 - val_accuracy: 0.4922\n",
            "Epoch 47/100\n",
            "391/391 [==============================] - 12s 31ms/step - loss: 1.3076 - accuracy: 0.6222 - val_loss: 2.0608 - val_accuracy: 0.4891\n",
            "Epoch 48/100\n",
            "391/391 [==============================] - 12s 31ms/step - loss: 1.2995 - accuracy: 0.6223 - val_loss: 1.9904 - val_accuracy: 0.4941\n",
            "Epoch 49/100\n",
            "391/391 [==============================] - 12s 31ms/step - loss: 1.2707 - accuracy: 0.6276 - val_loss: 1.9768 - val_accuracy: 0.5010\n",
            "Epoch 50/100\n",
            "391/391 [==============================] - 12s 31ms/step - loss: 1.2684 - accuracy: 0.6298 - val_loss: 2.0135 - val_accuracy: 0.4959\n",
            "Epoch 51/100\n",
            "391/391 [==============================] - 12s 31ms/step - loss: 1.2618 - accuracy: 0.6297 - val_loss: 2.0635 - val_accuracy: 0.4944\n",
            "Epoch 52/100\n",
            "391/391 [==============================] - 12s 31ms/step - loss: 1.2316 - accuracy: 0.6387 - val_loss: 2.0278 - val_accuracy: 0.4999\n",
            "Epoch 53/100\n",
            "391/391 [==============================] - 12s 31ms/step - loss: 1.2340 - accuracy: 0.6391 - val_loss: 2.0099 - val_accuracy: 0.4989\n",
            "Epoch 54/100\n",
            "391/391 [==============================] - 12s 31ms/step - loss: 1.2248 - accuracy: 0.6413 - val_loss: 2.0129 - val_accuracy: 0.4991\n",
            "Epoch 55/100\n",
            "391/391 [==============================] - 12s 31ms/step - loss: 1.2110 - accuracy: 0.6439 - val_loss: 2.0100 - val_accuracy: 0.5045\n",
            "Epoch 56/100\n",
            "391/391 [==============================] - 12s 31ms/step - loss: 1.2102 - accuracy: 0.6454 - val_loss: 2.0438 - val_accuracy: 0.4975\n",
            "Epoch 57/100\n",
            "391/391 [==============================] - 12s 31ms/step - loss: 1.1988 - accuracy: 0.6477 - val_loss: 2.0409 - val_accuracy: 0.4990\n",
            "Epoch 58/100\n",
            "391/391 [==============================] - 12s 32ms/step - loss: 1.1869 - accuracy: 0.6493 - val_loss: 2.0477 - val_accuracy: 0.5004\n",
            "Epoch 59/100\n",
            "391/391 [==============================] - 12s 32ms/step - loss: 1.1777 - accuracy: 0.6511 - val_loss: 2.0297 - val_accuracy: 0.5025\n",
            "Epoch 60/100\n",
            "391/391 [==============================] - 13s 33ms/step - loss: 1.1748 - accuracy: 0.6516 - val_loss: 2.0082 - val_accuracy: 0.5033\n",
            "Epoch 61/100\n",
            "391/391 [==============================] - 12s 32ms/step - loss: 1.1497 - accuracy: 0.6613 - val_loss: 2.0902 - val_accuracy: 0.4911\n",
            "Epoch 62/100\n",
            "391/391 [==============================] - 12s 32ms/step - loss: 1.1514 - accuracy: 0.6595 - val_loss: 2.0156 - val_accuracy: 0.5006\n",
            "Epoch 63/100\n",
            "391/391 [==============================] - 12s 32ms/step - loss: 1.1482 - accuracy: 0.6610 - val_loss: 2.0286 - val_accuracy: 0.5030\n",
            "Epoch 64/100\n",
            "391/391 [==============================] - 12s 32ms/step - loss: 1.1370 - accuracy: 0.6654 - val_loss: 2.0472 - val_accuracy: 0.5009\n",
            "Epoch 65/100\n",
            "391/391 [==============================] - 12s 32ms/step - loss: 1.1172 - accuracy: 0.6708 - val_loss: 2.0626 - val_accuracy: 0.4928\n",
            "Epoch 66/100\n",
            "391/391 [==============================] - 13s 33ms/step - loss: 1.1211 - accuracy: 0.6676 - val_loss: 2.0443 - val_accuracy: 0.4985\n",
            "Epoch 67/100\n",
            "391/391 [==============================] - 13s 33ms/step - loss: 1.1137 - accuracy: 0.6705 - val_loss: 2.1269 - val_accuracy: 0.4976\n",
            "Epoch 68/100\n",
            "391/391 [==============================] - 14s 37ms/step - loss: 1.1108 - accuracy: 0.6725 - val_loss: 2.0650 - val_accuracy: 0.4969\n",
            "Epoch 69/100\n",
            "391/391 [==============================] - 13s 32ms/step - loss: 1.0928 - accuracy: 0.6760 - val_loss: 2.0398 - val_accuracy: 0.5096\n",
            "Epoch 70/100\n",
            "391/391 [==============================] - 12s 31ms/step - loss: 1.0932 - accuracy: 0.6759 - val_loss: 2.0736 - val_accuracy: 0.4989\n",
            "Epoch 71/100\n",
            "391/391 [==============================] - 12s 32ms/step - loss: 1.0788 - accuracy: 0.6805 - val_loss: 2.0972 - val_accuracy: 0.4994\n",
            "Epoch 72/100\n",
            "391/391 [==============================] - 12s 31ms/step - loss: 1.0757 - accuracy: 0.6793 - val_loss: 2.0635 - val_accuracy: 0.5001\n",
            "Epoch 73/100\n",
            "391/391 [==============================] - 12s 31ms/step - loss: 1.0701 - accuracy: 0.6823 - val_loss: 2.0490 - val_accuracy: 0.4999\n",
            "Epoch 74/100\n",
            "391/391 [==============================] - 12s 31ms/step - loss: 1.0582 - accuracy: 0.6838 - val_loss: 2.0652 - val_accuracy: 0.5057\n",
            "Epoch 75/100\n",
            "391/391 [==============================] - 12s 31ms/step - loss: 1.0574 - accuracy: 0.6861 - val_loss: 2.0883 - val_accuracy: 0.5012\n",
            "Epoch 76/100\n",
            "391/391 [==============================] - 13s 32ms/step - loss: 1.0512 - accuracy: 0.6882 - val_loss: 2.0884 - val_accuracy: 0.5025\n",
            "Epoch 77/100\n",
            "391/391 [==============================] - 12s 31ms/step - loss: 1.0501 - accuracy: 0.6887 - val_loss: 2.1013 - val_accuracy: 0.4962\n",
            "Epoch 78/100\n",
            "391/391 [==============================] - 12s 31ms/step - loss: 1.0395 - accuracy: 0.6904 - val_loss: 2.0849 - val_accuracy: 0.5068\n",
            "Epoch 79/100\n",
            "391/391 [==============================] - 12s 31ms/step - loss: 1.0333 - accuracy: 0.6920 - val_loss: 2.1075 - val_accuracy: 0.5017\n",
            "Epoch 80/100\n",
            "391/391 [==============================] - 12s 31ms/step - loss: 1.0310 - accuracy: 0.6957 - val_loss: 2.1269 - val_accuracy: 0.4977\n",
            "Epoch 81/100\n",
            "391/391 [==============================] - 12s 31ms/step - loss: 1.0195 - accuracy: 0.6983 - val_loss: 2.1105 - val_accuracy: 0.5084\n",
            "Epoch 82/100\n",
            "391/391 [==============================] - 12s 32ms/step - loss: 1.0154 - accuracy: 0.6980 - val_loss: 2.1221 - val_accuracy: 0.5102\n",
            "Epoch 83/100\n",
            "391/391 [==============================] - 12s 32ms/step - loss: 0.9978 - accuracy: 0.7023 - val_loss: 2.1038 - val_accuracy: 0.5013\n",
            "Epoch 84/100\n",
            "391/391 [==============================] - 12s 31ms/step - loss: 1.0033 - accuracy: 0.7016 - val_loss: 2.1725 - val_accuracy: 0.4960\n",
            "Epoch 85/100\n",
            "391/391 [==============================] - 12s 31ms/step - loss: 1.0036 - accuracy: 0.7021 - val_loss: 2.1057 - val_accuracy: 0.5046\n",
            "Epoch 86/100\n",
            "391/391 [==============================] - 12s 31ms/step - loss: 0.9902 - accuracy: 0.7056 - val_loss: 2.1306 - val_accuracy: 0.5057\n",
            "Epoch 87/100\n",
            "391/391 [==============================] - 12s 31ms/step - loss: 0.9886 - accuracy: 0.7030 - val_loss: 2.1203 - val_accuracy: 0.5011\n",
            "Epoch 88/100\n",
            "391/391 [==============================] - 12s 31ms/step - loss: 0.9830 - accuracy: 0.7064 - val_loss: 2.1073 - val_accuracy: 0.5041\n",
            "Epoch 89/100\n",
            "391/391 [==============================] - 12s 31ms/step - loss: 0.9818 - accuracy: 0.7070 - val_loss: 2.2167 - val_accuracy: 0.4888\n",
            "Epoch 90/100\n",
            "391/391 [==============================] - 12s 31ms/step - loss: 0.9777 - accuracy: 0.7082 - val_loss: 2.1294 - val_accuracy: 0.5005\n",
            "Epoch 91/100\n",
            "391/391 [==============================] - 12s 32ms/step - loss: 0.9662 - accuracy: 0.7117 - val_loss: 2.1177 - val_accuracy: 0.5006\n",
            "Epoch 92/100\n",
            "391/391 [==============================] - 12s 31ms/step - loss: 0.9689 - accuracy: 0.7099 - val_loss: 2.1245 - val_accuracy: 0.5052\n",
            "Epoch 93/100\n",
            "391/391 [==============================] - 12s 32ms/step - loss: 0.9634 - accuracy: 0.7109 - val_loss: 2.2109 - val_accuracy: 0.4922\n",
            "Epoch 94/100\n",
            "391/391 [==============================] - 12s 31ms/step - loss: 0.9600 - accuracy: 0.7127 - val_loss: 2.1490 - val_accuracy: 0.5029\n",
            "Epoch 95/100\n",
            "391/391 [==============================] - 12s 31ms/step - loss: 0.9359 - accuracy: 0.7191 - val_loss: 2.2089 - val_accuracy: 0.4965\n",
            "Epoch 96/100\n",
            "391/391 [==============================] - 12s 32ms/step - loss: 0.9376 - accuracy: 0.7193 - val_loss: 2.1811 - val_accuracy: 0.4925\n",
            "Epoch 97/100\n",
            "391/391 [==============================] - 12s 31ms/step - loss: 0.9350 - accuracy: 0.7186 - val_loss: 2.2043 - val_accuracy: 0.4967\n",
            "Epoch 98/100\n",
            "391/391 [==============================] - 12s 31ms/step - loss: 0.9390 - accuracy: 0.7176 - val_loss: 2.1452 - val_accuracy: 0.5038\n",
            "Epoch 99/100\n",
            "391/391 [==============================] - 12s 31ms/step - loss: 0.9247 - accuracy: 0.7239 - val_loss: 2.1548 - val_accuracy: 0.5069\n",
            "Epoch 100/100\n",
            "391/391 [==============================] - 12s 31ms/step - loss: 0.9272 - accuracy: 0.7245 - val_loss: 2.1792 - val_accuracy: 0.5042\n"
          ]
        }
      ]
    },
    {
      "cell_type": "code",
      "source": [
        "# Evaluate the model on the test data\n",
        "test_loss, test_acc = model.evaluate(test_images, test_labels)\n",
        "print('Test accuracy:', test_acc)"
      ],
      "metadata": {
        "colab": {
          "base_uri": "https://localhost:8080/"
        },
        "id": "9MSGzDwt4O26",
        "outputId": "eb05c757-8486-41f6-f77a-62f18469dee7"
      },
      "execution_count": 4,
      "outputs": [
        {
          "output_type": "stream",
          "name": "stdout",
          "text": [
            "313/313 [==============================] - 2s 4ms/step - loss: 2.1792 - accuracy: 0.5042\n",
            "Test accuracy: 0.5041999816894531\n"
          ]
        }
      ]
    },
    {
      "cell_type": "code",
      "source": [
        "import matplotlib.pyplot as plt\n",
        "\n",
        "# Save the model weights\n",
        "model.save_weights('cifar100_dropout.h5')\n",
        "\n",
        "# Save the training history\n",
        "np.save('cifar100_dropout_history.npy', history.history)\n",
        "\n",
        "# Plot the training and validation accuracy over epochs\n",
        "plt.plot(history.history['accuracy'])\n",
        "plt.plot(history.history['val_accuracy'])\n",
        "plt.title('Model Accuracy')\n",
        "plt.ylabel('Accuracy')\n",
        "plt.xlabel('Epoch')\n",
        "plt.legend(['Train', 'Test'], loc='upper left')\n",
        "plt.show()"
      ],
      "metadata": {
        "colab": {
          "base_uri": "https://localhost:8080/",
          "height": 472
        },
        "id": "02TszMZD3ww6",
        "outputId": "d2eaec69-a39f-4cf8-8f06-1558b729ee13"
      },
      "execution_count": 5,
      "outputs": [
        {
          "output_type": "display_data",
          "data": {
            "text/plain": [
              "<Figure size 640x480 with 1 Axes>"
            ],
            "image/png": "[encoded data removed]"
          },
          "metadata": {}
        }
      ]
    },
    {
      "cell_type": "code",
      "source": [
        "#thu nghiem\n",
        "from keras.utils import load_img\n",
        "from keras.utils import img_to_array\n",
        "import matplotlib.pyplot as plt\n",
        "import numpy as np\n",
        "\n",
        "img = load_img('/content/drive/MyDrive/FLOWER/DAISY (1).jpg', target_size=(32, 32, 3))\n",
        "plt.imshow(img)\n",
        "img = img_to_array(img)\n",
        "img = img.reshape(1, 32*32*3)\n",
        "img = img.astype('float32')\n",
        "img = img/255\n",
        "np.argmax(model.predict(img), axis=-1)"
      ],
      "metadata": {
        "colab": {
          "base_uri": "https://localhost:8080/",
          "height": 621
        },
        "id": "Vt5ERVAW7dQk",
        "outputId": "2078eef4-e542-4b03-d7d5-737eee9b0b5b"
      },
      "execution_count": 1,
      "outputs": [
        {
          "output_type": "error",
          "ename": "NameError",
          "evalue": "ignored",
          "traceback": [
            "\u001b[0;31m---------------------------------------------------------------------------\u001b[0m",
            "\u001b[0;31mNameError\u001b[0m                                 Traceback (most recent call last)",
            "\u001b[0;32m<ipython-input-1-718e8bd1dc22>\u001b[0m in \u001b[0;36m<cell line: 13>\u001b[0;34m()\u001b[0m\n\u001b[1;32m     11\u001b[0m \u001b[0mimg\u001b[0m \u001b[0;34m=\u001b[0m \u001b[0mimg\u001b[0m\u001b[0;34m.\u001b[0m\u001b[0mastype\u001b[0m\u001b[0;34m(\u001b[0m\u001b[0;34m'float32'\u001b[0m\u001b[0;34m)\u001b[0m\u001b[0;34m\u001b[0m\u001b[0;34m\u001b[0m\u001b[0m\n\u001b[1;32m     12\u001b[0m \u001b[0mimg\u001b[0m \u001b[0;34m=\u001b[0m \u001b[0mimg\u001b[0m\u001b[0;34m/\u001b[0m\u001b[0;36m255\u001b[0m\u001b[0;34m\u001b[0m\u001b[0;34m\u001b[0m\u001b[0m\n\u001b[0;32m---> 13\u001b[0;31m \u001b[0mnp\u001b[0m\u001b[0;34m.\u001b[0m\u001b[0margmax\u001b[0m\u001b[0;34m(\u001b[0m\u001b[0mmodel\u001b[0m\u001b[0;34m.\u001b[0m\u001b[0mpredict\u001b[0m\u001b[0;34m(\u001b[0m\u001b[0mimg\u001b[0m\u001b[0;34m)\u001b[0m\u001b[0;34m,\u001b[0m \u001b[0maxis\u001b[0m\u001b[0;34m=\u001b[0m\u001b[0;34m-\u001b[0m\u001b[0;36m1\u001b[0m\u001b[0;34m)\u001b[0m\u001b[0;34m\u001b[0m\u001b[0;34m\u001b[0m\u001b[0m\n\u001b[0m",
            "\u001b[0;31mNameError\u001b[0m: name 'model' is not defined"
          ]
        },
        {
          "output_type": "display_data",
          "data": {
            "text/plain": [
              "<Figure size 640x480 with 1 Axes>"
            ],
            "image/png": "[encoded data removed]"
          },
          "metadata": {}
        }
      ]
    }
  ]
}