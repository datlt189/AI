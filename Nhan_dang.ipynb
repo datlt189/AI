{
  "nbformat": 4,
  "nbformat_minor": 0,
  "metadata": {
    "colab": {
      "provenance": [],
      "mount_file_id": "17HvEN0hnWcSngkvQNZUEqkjRA0Go3tkQ",
      "authorship_tag": "ABX9TyO/nfrZgT3QmB7G/rYtYl1g",
      "include_colab_link": true
    },
    "kernelspec": {
      "name": "python3",
      "display_name": "Python 3"
    },
    "language_info": {
      "name": "python"
    }
  },
  "cells": [
    {
      "cell_type": "markdown",
      "metadata": {
        "id": "view-in-github",
        "colab_type": "text"
      },
      "source": [
        "<a href=\"https://colab.research.google.com/github/datlt189/AI_LeTienDat_20146151/blob/main/Nhan_dang.ipynb\" target=\"_parent\"><img src=\"https://colab.research.google.com/assets/colab-badge.svg\" alt=\"Open In Colab\"/></a>"
      ]
    },
    {
      "cell_type": "code",
      "execution_count": 7,
      "metadata": {
        "id": "ZUB-pWK1ICkP"
      },
      "outputs": [],
      "source": [
        "from os import listdir\n",
        "from numpy import asarray, save\n",
        "from keras.utils import load_img, img_to_array\n",
        "\n",
        "folder = '/content/drive/MyDrive/NHAN_DIEN_ANH_AI/NGUYEN_HAI_DANG_20146110/'\n",
        "\n",
        "photos, labels = list(), list()\n",
        "for file in listdir(folder):\n",
        "    output = 0.0\n",
        "    if file.startswith('A'):\n",
        "        output = 1.0\n",
        "    if file.startswith('chi'):\n",
        "        output = 2.0\n",
        "    photo = load_img(folder + file, target_size=(200, 200))\n",
        "    photo = img_to_array(photo)\n",
        "    photos.append(photo)\n",
        "    labels.append(output)\n",
        "\n",
        "photos = asarray(photos)\n",
        "labels = asarray(labels)\n",
        "save('Dang_Nhu_photo.npy', photos)\n",
        "save('Dang_Nhu_label.npy', labels)"
      ]
    }
  ]
}