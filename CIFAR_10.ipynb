{
  "nbformat": 4,
  "nbformat_minor": 0,
  "metadata": {
    "colab": {
      "provenance": [],
      "authorship_tag": "ABX9TyPPcmGeqbcQ3nj6vbz88Tab",
      "include_colab_link": true
    },
    "kernelspec": {
      "name": "python3",
      "display_name": "Python 3"
    },
    "language_info": {
      "name": "python"
    }
  },
  "cells": [
    {
      "cell_type": "markdown",
      "metadata": {
        "id": "view-in-github",
        "colab_type": "text"
      },
      "source": [
        "<a href=\"https://colab.research.google.com/github/datlt189/AI_LeTienDat_20146151/blob/main/CIFAR_10.ipynb\" target=\"_parent\"><img src=\"https://colab.research.google.com/assets/colab-badge.svg\" alt=\"Open In Colab\"/></a>"
      ]
    },
    {
      "cell_type": "code",
      "execution_count": 4,
      "metadata": {
        "id": "YExnsmRGEMzV"
      },
      "outputs": [],
      "source": [
        "from keras.datasets import cifar10\n",
        "from keras.utils import to_categorical\n",
        "from keras.models import Sequential\n",
        "from keras.layers import Dense\n",
        "import matplotlib.pyplot as plt\n",
        "\n",
        "# load data\n",
        "(x_train, y_train), (x_test, y_test) = cifar10.load_data()\n"
      ]
    },
    {
      "cell_type": "code",
      "source": [
        "# display an image from the dataset\n",
        "hinh = x_train[4]\n",
        "plt.imshow(hinh, cmap=plt.cm.binary)\n",
        "plt.show()\n",
        "print('Số này là:', x_train[4])"
      ],
      "metadata": {
        "colab": {
          "base_uri": "https://localhost:8080/",
          "height": 1000
        },
        "id": "mJTEB1y7GOzt",
        "outputId": "eae4bc91-68ca-45f2-d452-5c4e068c0291"
      },
      "execution_count": 10,
      "outputs": [
        {
          "output_type": "display_data",
          "data": {
            "text/plain": [
              "<Figure size 432x288 with 1 Axes>"
            ],
            "image/png": "[encoded data removed]"
          },
          "metadata": {
            "needs_background": "light"
          }
        },
        {
          "output_type": "stream",
          "name": "stdout",
          "text": [
            "Số này là: [[[170 180 198]\n",
            "  [168 178 196]\n",
            "  [177 185 203]\n",
            "  ...\n",
            "  [162 179 215]\n",
            "  [158 178 214]\n",
            "  [157 177 212]]\n",
            "\n",
            " [[168 181 198]\n",
            "  [172 185 201]\n",
            "  [171 183 200]\n",
            "  ...\n",
            "  [159 177 212]\n",
            "  [156 176 211]\n",
            "  [154 174 209]]\n",
            "\n",
            " [[154 170 186]\n",
            "  [149 165 181]\n",
            "  [129 144 162]\n",
            "  ...\n",
            "  [161 178 214]\n",
            "  [157 177 212]\n",
            "  [154 174 209]]\n",
            "\n",
            " ...\n",
            "\n",
            " [[ 74  84  80]\n",
            "  [ 76  85  81]\n",
            "  [ 78  85  82]\n",
            "  ...\n",
            "  [ 71  75  78]\n",
            "  [ 68  72  75]\n",
            "  [ 61  65  68]]\n",
            "\n",
            " [[ 68  76  77]\n",
            "  [ 69  77  78]\n",
            "  [ 72  79  78]\n",
            "  ...\n",
            "  [ 76  80  83]\n",
            "  [ 71  75  78]\n",
            "  [ 71  75  78]]\n",
            "\n",
            " [[ 67  75  78]\n",
            "  [ 68  76  79]\n",
            "  [ 69  75  76]\n",
            "  ...\n",
            "  [ 75  79  82]\n",
            "  [ 71  75  78]\n",
            "  [ 73  77  80]]]\n"
          ]
        }
      ]
    },
    {
      "cell_type": "code",
      "source": [
        "from keras.datasets import cifar10\n",
        "from keras.models import Sequential\n",
        "from keras.layers import Dense\n",
        "from keras.utils import to_categorical\n",
        "import matplotlib.pyplot as plt\n",
        "\n",
        "# load the CIFAR-10 dataset\n",
        "(x_train, y_train), (x_test, y_test) = cifar10.load_data()\n",
        "\n",
        "# display an image from the dataset\n",
        "plt.imshow(x_train[50])\n",
        "plt.show()\n",
        "print('This image is:', x_train[50])\n",
        "\n",
        "# create a sequential model\n",
        "model = Sequential()\n",
        "\n",
        "# flatten the input\n",
        "model.add(Dense(512, input_shape=(32*32*3,), activation='relu'))\n",
        "model.add(Dense(256, activation='relu'))\n",
        "model.add(Dense(128, activation='relu'))\n",
        "\n",
        "# add the output layer with softmax activation\n",
        "model.add(Dense(10, activation='softmax'))\n",
        "\n",
        "# print model summary\n",
        "model.summary()\n",
        "\n",
        "# preprocess the data\n",
        "x_train = x_train.astype('float32') / 255\n",
        "x_test = x_test.astype('float32') / 255\n",
        "\n",
        "# convert labels to one-hot encoding\n",
        "y_train = to_categorical(y_train, 10)\n",
        "y_test = to_categorical(y_test, 10)\n",
        "\n",
        "# compile the model\n",
        "model.compile(optimizer='adam', loss='categorical_crossentropy', metrics=['accuracy'])\n",
        "\n",
        "# train the model\n",
        "model.fit(x_train.reshape((50000, 32*32*3)), y_train, epochs=20, batch_size=128)\n",
        "\n",
        "# evaluate the model\n",
        "test_loss, test_acc = model.evaluate(x_test.reshape((10000, 32*32*3)), y_test)\n",
        "print('Test accuracy:', test_acc)\n",
        "print('Test loss:', test_loss)"
      ],
      "metadata": {
        "colab": {
          "base_uri": "https://localhost:8080/",
          "height": 1000
        },
        "id": "5-MSMnkMJhb8",
        "outputId": "d78f3e97-b9c4-4545-e994-ed298dd18f94"
      },
      "execution_count": 16,
      "outputs": [
        {
          "output_type": "display_data",
          "data": {
            "text/plain": [
              "<Figure size 432x288 with 1 Axes>"
            ],
            "image/png": "[encoded data removed]"
          },
          "metadata": {
            "needs_background": "light"
          }
        },
        {
          "output_type": "stream",
          "name": "stdout",
          "text": [
            "This image is: [[[ 16  76  74]\n",
            "  [ 17  77  75]\n",
            "  [ 17  77  75]\n",
            "  ...\n",
            "  [ 62 106  87]\n",
            "  [ 55  99  80]\n",
            "  [ 51  94  75]]\n",
            "\n",
            " [[ 16  76  74]\n",
            "  [ 16  76  74]\n",
            "  [ 15  75  74]\n",
            "  ...\n",
            "  [ 62 109  84]\n",
            "  [ 58 105  80]\n",
            "  [ 52 100  75]]\n",
            "\n",
            " [[ 16  76  74]\n",
            "  [ 15  75  73]\n",
            "  [ 15  75  73]\n",
            "  ...\n",
            "  [ 57 110  79]\n",
            "  [ 59 111  80]\n",
            "  [ 56 109  78]]\n",
            "\n",
            " ...\n",
            "\n",
            " [[ 96 110 138]\n",
            "  [114 127 159]\n",
            "  [119 132 167]\n",
            "  ...\n",
            "  [128 135 153]\n",
            "  [120 130 145]\n",
            "  [117 131 142]]\n",
            "\n",
            " [[118 132 159]\n",
            "  [100 113 145]\n",
            "  [114 126 163]\n",
            "  ...\n",
            "  [139 146 159]\n",
            "  [131 140 153]\n",
            "  [121 134 147]]\n",
            "\n",
            " [[144 148 173]\n",
            "  [136 140 168]\n",
            "  [105 114 143]\n",
            "  ...\n",
            "  [145 151 170]\n",
            "  [137 144 163]\n",
            "  [131 141 158]]]\n",
            "Model: \"sequential_5\"\n",
            "_________________________________________________________________\n",
            " Layer (type)                Output Shape              Param #   \n",
            "=================================================================\n",
            " dense_10 (Dense)            (None, 512)               1573376   \n",
            "                                                                 \n",
            " dense_11 (Dense)            (None, 256)               131328    \n",
            "                                                                 \n",
            " dense_12 (Dense)            (None, 128)               32896     \n",
            "                                                                 \n",
            " dense_13 (Dense)            (None, 10)                1290      \n",
            "                                                                 \n",
            "=================================================================\n",
            "Total params: 1,738,890\n",
            "Trainable params: 1,738,890\n",
            "Non-trainable params: 0\n",
            "_________________________________________________________________\n",
            "Epoch 1/20\n",
            "391/391 [==============================] - 17s 41ms/step - loss: 1.8853 - accuracy: 0.3180\n",
            "Epoch 2/20\n",
            "391/391 [==============================] - 16s 42ms/step - loss: 1.6784 - accuracy: 0.3984\n",
            "Epoch 3/20\n",
            "391/391 [==============================] - 15s 38ms/step - loss: 1.5966 - accuracy: 0.4292\n",
            "Epoch 4/20\n",
            "391/391 [==============================] - 16s 42ms/step - loss: 1.5274 - accuracy: 0.4525\n",
            "Epoch 5/20\n",
            "391/391 [==============================] - 18s 45ms/step - loss: 1.4834 - accuracy: 0.4698\n",
            "Epoch 6/20\n",
            "391/391 [==============================] - 16s 40ms/step - loss: 1.4449 - accuracy: 0.4829\n",
            "Epoch 7/20\n",
            "391/391 [==============================] - 16s 41ms/step - loss: 1.4154 - accuracy: 0.4940\n",
            "Epoch 8/20\n",
            "391/391 [==============================] - 16s 41ms/step - loss: 1.3871 - accuracy: 0.5040\n",
            "Epoch 9/20\n",
            "391/391 [==============================] - 17s 42ms/step - loss: 1.3586 - accuracy: 0.5169\n",
            "Epoch 10/20\n",
            "391/391 [==============================] - 15s 38ms/step - loss: 1.3249 - accuracy: 0.5267\n",
            "Epoch 11/20\n",
            "391/391 [==============================] - 15s 39ms/step - loss: 1.2963 - accuracy: 0.5376\n",
            "Epoch 12/20\n",
            "391/391 [==============================] - 16s 40ms/step - loss: 1.2744 - accuracy: 0.5465\n",
            "Epoch 13/20\n",
            "391/391 [==============================] - 17s 42ms/step - loss: 1.2491 - accuracy: 0.5546\n",
            "Epoch 14/20\n",
            "391/391 [==============================] - 15s 38ms/step - loss: 1.2268 - accuracy: 0.5636\n",
            "Epoch 15/20\n",
            "391/391 [==============================] - 15s 40ms/step - loss: 1.2080 - accuracy: 0.5689\n",
            "Epoch 16/20\n",
            "391/391 [==============================] - 16s 40ms/step - loss: 1.1842 - accuracy: 0.5764\n",
            "Epoch 17/20\n",
            "391/391 [==============================] - 15s 39ms/step - loss: 1.1614 - accuracy: 0.5835\n",
            "Epoch 18/20\n",
            "391/391 [==============================] - 16s 42ms/step - loss: 1.1378 - accuracy: 0.5933\n",
            "Epoch 19/20\n",
            "391/391 [==============================] - 16s 41ms/step - loss: 1.1197 - accuracy: 0.5985\n",
            "Epoch 20/20\n",
            "391/391 [==============================] - 16s 41ms/step - loss: 1.0997 - accuracy: 0.6080\n",
            "313/313 [==============================] - 3s 6ms/step - loss: 1.3726 - accuracy: 0.5227\n",
            "Test accuracy: 0.5227000117301941\n",
            "Test loss: 1.3725686073303223\n"
          ]
        }
      ]
    },
    {
      "cell_type": "code",
      "source": [
        "from keras.utils import load_img\n",
        "img = load_img(filename, target_size=(10,5))\n",
        "imshow(img)\n",
        "img = img_to_array(img)\n",
        "img = img.reshape(1,10,5)\n",
        "img = img.astype('float32')\n",
        "img = img/255\n",
        "np.argmax(model, predict(img), axis = -1)"
      ],
      "metadata": {
        "id": "8NHvybJ-Qf92"
      },
      "execution_count": null,
      "outputs": []
    }
  ]
}