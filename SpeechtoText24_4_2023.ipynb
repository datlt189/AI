{
  "nbformat": 4,
  "nbformat_minor": 0,
  "metadata": {
    "colab": {
      "provenance": [],
      "mount_file_id": "19Morj_8SOK6agBVU1hHFeui3ozHmQ_GJ",
      "authorship_tag": "ABX9TyOAT2yXiAFPPld9q/C0SejH",
      "include_colab_link": true
    },
    "kernelspec": {
      "name": "python3",
      "display_name": "Python 3"
    },
    "language_info": {
      "name": "python"
    }
  },
  "cells": [
    {
      "cell_type": "markdown",
      "metadata": {
        "id": "view-in-github",
        "colab_type": "text"
      },
      "source": [
        "<a href=\"https://colab.research.google.com/github/datlt189/AI_LeTienDat_20146151/blob/main/SpeechtoText24_4_2023.ipynb\" target=\"_parent\"><img src=\"https://colab.research.google.com/assets/colab-badge.svg\" alt=\"Open In Colab\"/></a>"
      ]
    },
    {
      "cell_type": "code",
      "execution_count": 1,
      "metadata": {
        "colab": {
          "base_uri": "https://localhost:8080/"
        },
        "id": "feKGE-glCdF1",
        "outputId": "0d68f917-4a37-42ea-c280-5cc1b27e9bf2"
      },
      "outputs": [
        {
          "output_type": "stream",
          "name": "stdout",
          "text": [
            "Looking in indexes: https://pypi.org/simple, https://us-python.pkg.dev/colab-wheels/public/simple/\n",
            "Collecting SpeechRecognition\n",
            "  Downloading SpeechRecognition-3.10.0-py2.py3-none-any.whl (32.8 MB)\n",
            "\u001b[2K     \u001b[90m━━━━━━━━━━━━━━━━━━━━━━━━━━━━━━━━━━━━━━━━\u001b[0m \u001b[32m32.8/32.8 MB\u001b[0m \u001b[31m20.1 MB/s\u001b[0m eta \u001b[36m0:00:00\u001b[0m\n",
            "\u001b[?25hRequirement already satisfied: requests>=2.26.0 in /usr/local/lib/python3.9/dist-packages (from SpeechRecognition) (2.27.1)\n",
            "Requirement already satisfied: certifi>=2017.4.17 in /usr/local/lib/python3.9/dist-packages (from requests>=2.26.0->SpeechRecognition) (2022.12.7)\n",
            "Requirement already satisfied: urllib3<1.27,>=1.21.1 in /usr/local/lib/python3.9/dist-packages (from requests>=2.26.0->SpeechRecognition) (1.26.15)\n",
            "Requirement already satisfied: idna<4,>=2.5 in /usr/local/lib/python3.9/dist-packages (from requests>=2.26.0->SpeechRecognition) (3.4)\n",
            "Requirement already satisfied: charset-normalizer~=2.0.0 in /usr/local/lib/python3.9/dist-packages (from requests>=2.26.0->SpeechRecognition) (2.0.12)\n",
            "Installing collected packages: SpeechRecognition\n",
            "Successfully installed SpeechRecognition-3.10.0\n"
          ]
        }
      ],
      "source": [
        "pip install SpeechRecognition\n"
      ]
    },
    {
      "cell_type": "code",
      "source": [
        "file = '/content/drive/MyDrive/Test_music/conversation.wav'\n",
        "import speech_recognition as sr\n",
        "r = sr.Recognizer()\n",
        "with sr.AudioFile(file) as source:\n",
        "  audio_data = r.record(source)\n",
        "  text = r.recognize_google(audio_data)\n",
        "  print(text)"
      ],
      "metadata": {
        "colab": {
          "base_uri": "https://localhost:8080/"
        },
        "id": "bWAVCnZJCpXs",
        "outputId": "124b6c46-67c7-4453-9fab-021060d9934a"
      },
      "execution_count": 42,
      "outputs": [
        {
          "output_type": "stream",
          "name": "stdout",
          "text": [
            "hello I work in a small accounting firm and we're interested in a website I saw your ad in a local newspaper can you tell me how much it would cost well that depends on what you want I'm guessing you won't want e-commerce or anything too fancy for the better actually well our basic package cost from $3,000 that's for a maximum of 20 pages with photos I can put you through to one of our team of designers if you'd like to find out more\n"
          ]
        }
      ]
    },
    {
      "cell_type": "code",
      "source": [
        "# xử lý ngôn ngữ tự nhiên (nếu không xử lý nó sẽ in 1 dây dàiiiiiiiiiiiiiiiiiiiiiiiiiiiii)\n",
        "test = sr.Recognizer()\n",
        "with sr.AudioFile(file) as source:\n",
        "  audio1 = r.record(source, duration = 4)\n",
        "  audio2 = r.record(source, duration = 10)\n",
        "  audio3 = r.record(source, offset = 4, duration = 10)\n",
        "print(r.recognize_google(audio1))\n",
        "print(r.recognize_google(audio2))\n",
        "print(r.recognize_google(audio3))\n"
      ],
      "metadata": {
        "colab": {
          "base_uri": "https://localhost:8080/"
        },
        "id": "G-cWgAEiD6OC",
        "outputId": "1fb01de5-6a66-4619-d80c-1ad6f74be82a"
      },
      "execution_count": 7,
      "outputs": [
        {
          "output_type": "stream",
          "name": "stdout",
          "text": [
            "hello I work in a small accounting firm and we're interested in\n",
            "website I saw your ad in a local newspaper can you tell me how much it would cost well that depends on what you want\n",
            "Oh no just something simple to give us an online presents the cheaper the better actually I see well our basic package\n"
          ]
        }
      ]
    },
    {
      "cell_type": "code",
      "source": [
        "import speech_recognition as sr\n",
        "r = sr.Recognizer()\n",
        "file = '/content/drive/MyDrive/Test_music/konichiwa.wav'\n",
        "with sr.AudioFile(file) as source:\n",
        "  audio = r.record(source)\n",
        "r.recognize_google(audio, language = 'ja-JP')\n",
        "\n",
        "#vi_VN: Việt\n",
        "#fr_FR: Pháp\n",
        "#ja: Nhật\n",
        "#de: Đức\n",
        "#ko: Hàn\n",
        "#ru: Nga\n",
        "#zh_cn: Trung(giản thể)\n",
        "#zh_tw: Trung(phồn thể)\n"
      ],
      "metadata": {
        "colab": {
          "base_uri": "https://localhost:8080/",
          "height": 36
        },
        "id": "WTZPE2MYGEMB",
        "outputId": "832bbca9-cbff-4bb3-e1bf-901ec0ba352d"
      },
      "execution_count": 14,
      "outputs": [
        {
          "output_type": "execute_result",
          "data": {
            "text/plain": [
              "'こんにちは'"
            ],
            "application/vnd.google.colaboratory.intrinsic+json": {
              "type": "string"
            }
          },
          "metadata": {},
          "execution_count": 14
        }
      ]
    },
    {
      "cell_type": "code",
      "source": [
        "pip install gTTS"
      ],
      "metadata": {
        "colab": {
          "base_uri": "https://localhost:8080/"
        },
        "id": "RU44-LX-KsVH",
        "outputId": "93ce5605-44b1-4dc3-e775-99a5977b8c51"
      },
      "execution_count": 17,
      "outputs": [
        {
          "output_type": "stream",
          "name": "stdout",
          "text": [
            "Looking in indexes: https://pypi.org/simple, https://us-python.pkg.dev/colab-wheels/public/simple/\n",
            "Collecting gTTS\n",
            "  Downloading gTTS-2.3.1-py3-none-any.whl (28 kB)\n",
            "Requirement already satisfied: requests<3,>=2.27 in /usr/local/lib/python3.9/dist-packages (from gTTS) (2.27.1)\n",
            "Requirement already satisfied: click<8.2,>=7.1 in /usr/local/lib/python3.9/dist-packages (from gTTS) (8.1.3)\n",
            "Requirement already satisfied: charset-normalizer~=2.0.0 in /usr/local/lib/python3.9/dist-packages (from requests<3,>=2.27->gTTS) (2.0.12)\n",
            "Requirement already satisfied: idna<4,>=2.5 in /usr/local/lib/python3.9/dist-packages (from requests<3,>=2.27->gTTS) (3.4)\n",
            "Requirement already satisfied: certifi>=2017.4.17 in /usr/local/lib/python3.9/dist-packages (from requests<3,>=2.27->gTTS) (2022.12.7)\n",
            "Requirement already satisfied: urllib3<1.27,>=1.21.1 in /usr/local/lib/python3.9/dist-packages (from requests<3,>=2.27->gTTS) (1.26.15)\n",
            "Installing collected packages: gTTS\n",
            "Successfully installed gTTS-2.3.1\n"
          ]
        }
      ]
    },
    {
      "cell_type": "code",
      "source": [
        "from gtts import gTTS\n",
        "import os\n",
        "A = 'Đức là một điểm đến du lịch phổ biến ở châu Âu. Thủ đô Berlin được biết đến với bề dày lịch sử và văn hóa. Các thành phố nổi tiếng khác là München, Hamburg và Köln. Đất nước này cũng có nhiều danh lam thắng cảnh đẹp, chẳng hạn như dãy núi Alps ở phía nam và Biển Bắc ở phía bắc. Các lễ hội của Đức, chẳng hạn như lễ hội tháng mười ở Munich, cũng rất nổi tiếng.'\n",
        "speak = gTTS(text = A, lang = 'vi', slow = False)\n",
        "speak.save('VD.mp3')\n",
        "\n",
        "print('text')"
      ],
      "metadata": {
        "colab": {
          "base_uri": "https://localhost:8080/"
        },
        "id": "gzIIg4fHKvEr",
        "outputId": "5bb60d01-3952-4193-ba0d-1e336a24c4be"
      },
      "execution_count": 41,
      "outputs": [
        {
          "output_type": "stream",
          "name": "stdout",
          "text": [
            "text\n"
          ]
        }
      ]
    },
    {
      "cell_type": "code",
      "source": [
        "pip install googletrans==3.1.0a0"
      ],
      "metadata": {
        "colab": {
          "base_uri": "https://localhost:8080/"
        },
        "id": "DMFEH33wRj-5",
        "outputId": "84fb1b38-7a85-40e0-eb1c-1afe008b2c90"
      },
      "execution_count": 34,
      "outputs": [
        {
          "output_type": "stream",
          "name": "stdout",
          "text": [
            "Looking in indexes: https://pypi.org/simple, https://us-python.pkg.dev/colab-wheels/public/simple/\n",
            "Requirement already satisfied: googletrans==3.1.0a0 in /usr/local/lib/python3.9/dist-packages (3.1.0a0)\n",
            "Requirement already satisfied: httpx==0.13.3 in /usr/local/lib/python3.9/dist-packages (from googletrans==3.1.0a0) (0.13.3)\n",
            "Requirement already satisfied: chardet==3.* in /usr/local/lib/python3.9/dist-packages (from httpx==0.13.3->googletrans==3.1.0a0) (3.0.4)\n",
            "Requirement already satisfied: httpcore==0.9.* in /usr/local/lib/python3.9/dist-packages (from httpx==0.13.3->googletrans==3.1.0a0) (0.9.1)\n",
            "Requirement already satisfied: hstspreload in /usr/local/lib/python3.9/dist-packages (from httpx==0.13.3->googletrans==3.1.0a0) (2023.1.1)\n",
            "Requirement already satisfied: idna==2.* in /usr/local/lib/python3.9/dist-packages (from httpx==0.13.3->googletrans==3.1.0a0) (2.10)\n",
            "Requirement already satisfied: certifi in /usr/local/lib/python3.9/dist-packages (from httpx==0.13.3->googletrans==3.1.0a0) (2022.12.7)\n",
            "Requirement already satisfied: sniffio in /usr/local/lib/python3.9/dist-packages (from httpx==0.13.3->googletrans==3.1.0a0) (1.3.0)\n",
            "Requirement already satisfied: rfc3986<2,>=1.3 in /usr/local/lib/python3.9/dist-packages (from httpx==0.13.3->googletrans==3.1.0a0) (1.5.0)\n",
            "Requirement already satisfied: h11<0.10,>=0.8 in /usr/local/lib/python3.9/dist-packages (from httpcore==0.9.*->httpx==0.13.3->googletrans==3.1.0a0) (0.9.0)\n",
            "Requirement already satisfied: h2==3.* in /usr/local/lib/python3.9/dist-packages (from httpcore==0.9.*->httpx==0.13.3->googletrans==3.1.0a0) (3.2.0)\n",
            "Requirement already satisfied: hpack<4,>=3.0 in /usr/local/lib/python3.9/dist-packages (from h2==3.*->httpcore==0.9.*->httpx==0.13.3->googletrans==3.1.0a0) (3.0.0)\n",
            "Requirement already satisfied: hyperframe<6,>=5.2.0 in /usr/local/lib/python3.9/dist-packages (from h2==3.*->httpcore==0.9.*->httpx==0.13.3->googletrans==3.1.0a0) (5.2.0)\n"
          ]
        }
      ]
    },
    {
      "cell_type": "code",
      "source": [
        "from googletrans import Translator\n",
        "translator = Translator()\n",
        "# TỰ động nhận dạng câu đưa vào là ngôn ngữ gì -> dịch qua tiếng gì thì ghi tiếng đó vào dest\n",
        "translation = translator.translate('Deutschland ist ein beliebtes Reiseziel in Europa. Die Hauptstadt Berlin ist bekannt für ihre reiche Geschichte und Kultur. Andere beliebte Städte sind München, Hamburg und Köln. Das Land hat auch viele schöne Landschaften, wie die Alpen im Süden und die Nordsee im Norden. Die deutschen Festivals, wie das Oktoberfest in München, sind auch sehr bekannt.', dest = 'vi')\n",
        "print(translation.text)\n",
        "# wave -> text -> translate -> speech -> mp3"
      ],
      "metadata": {
        "colab": {
          "base_uri": "https://localhost:8080/"
        },
        "id": "zWXHs_piR1Ll",
        "outputId": "38530a2d-d395-4d75-fbc1-082ecb216f09"
      },
      "execution_count": 39,
      "outputs": [
        {
          "output_type": "stream",
          "name": "stdout",
          "text": [
            "Đức là một điểm đến du lịch phổ biến ở châu Âu. Thủ đô Berlin được biết đến với bề dày lịch sử và văn hóa. Các thành phố nổi tiếng khác là München, Hamburg và Köln. Đất nước này cũng có nhiều danh lam thắng cảnh đẹp, chẳng hạn như dãy núi Alps ở phía nam và Biển Bắc ở phía bắc. Các lễ hội của Đức, chẳng hạn như lễ hội tháng mười ở Munich, cũng rất nổi tiếng.\n"
          ]
        }
      ]
    },
    {
      "cell_type": "code",
      "source": [
        "# wave -> text -> translate -> speech -> mp3\n",
        "import speech_recognition as sr\n",
        "from googletrans import Translator\n",
        "from gtts import gTTS\n",
        "import os\n",
        "\n",
        "file = '/content/drive/MyDrive/Test_music/hola-como-estas-como-te-llamas-hi-what-s-your-name.wav'\n",
        "\n",
        "# recognize speech from the audio file\n",
        "r = sr.Recognizer()\n",
        "with sr.AudioFile(file) as source:\n",
        "  audio_data = r.record(source)\n",
        "  text = r.recognize_google(audio_data)\n",
        "\n",
        "# translate the recognized text to Vietnamese\n",
        "translator = Translator()\n",
        "translation = translator.translate(text, dest='vi')\n",
        "translated_text = translation.text\n",
        "\n",
        "# convert the translated text to speech and save as an mp3 file\n",
        "speak = gTTS(text=translated_text, lang='vi', slow=False)\n",
        "speak.save('VD.mp3')\n",
        "print(translated_text)\n"
      ],
      "metadata": {
        "colab": {
          "base_uri": "https://localhost:8080/"
        },
        "id": "BGDLEyQKV9_5",
        "outputId": "1e4198ff-6854-47c5-80f7-c34cfc230028"
      },
      "execution_count": 44,
      "outputs": [
        {
          "output_type": "stream",
          "name": "stdout",
          "text": [
            "Chào! Bạn khỏe không\n"
          ]
        }
      ]
    }
  ]
}