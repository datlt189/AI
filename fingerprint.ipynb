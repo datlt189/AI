{
  "nbformat": 4,
  "nbformat_minor": 0,
  "metadata": {
    "colab": {
      "provenance": [],
      "authorship_tag": "ABX9TyMhMAvToSfzCpIA0s7VORnV",
      "include_colab_link": true
    },
    "kernelspec": {
      "name": "python3",
      "display_name": "Python 3"
    },
    "language_info": {
      "name": "python"
    }
  },
  "cells": [
    {
      "cell_type": "markdown",
      "metadata": {
        "id": "view-in-github",
        "colab_type": "text"
      },
      "source": [
        "<a href=\"https://colab.research.google.com/github/datlt189/AI_LeTienDat_20146151/blob/main/fingerprint.ipynb\" target=\"_parent\"><img src=\"https://colab.research.google.com/assets/colab-badge.svg\" alt=\"Open In Colab\"/></a>"
      ]
    },
    {
      "cell_type": "code",
      "source": [
        "from os import listdir\n",
        "from numpy import asarray, save\n",
        "from keras.utils import load_img\n",
        "from keras.utils import img_to_array"
      ],
      "metadata": {
        "id": "ppgcd1c78Q3e"
      },
      "execution_count": null,
      "outputs": []
    },
    {
      "cell_type": "code",
      "source": [
        "folder = '/content/drive/MyDrive/ChiTay/'\n",
        "\n",
        "photos, labels = list(), list()\n",
        "for file in listdir(folder):\n",
        "  output= 0.0\n",
        "  if file.startswith('leftRich'):\n",
        "    output= 1.0\n",
        "  if file.startswith('rightPoor'):\n",
        "    output= 2.0\n",
        "  photo = load_img(folder + file, target_size= (32,32))\n",
        "  photo= img_to_array(photo)\n",
        "\n",
        "  photos.append(photo)\n",
        "  labels.append(output)"
      ],
      "metadata": {
        "id": "8Xmz_77p8Ryj"
      },
      "execution_count": null,
      "outputs": []
    },
    {
      "cell_type": "code",
      "source": [
        "photos= asarray(photos)\n",
        "labels= asarray(labels)\n",
        "print(photos.shape, labels.shape)\n",
        "save('/content/drive/MyDrive/data_train/leftHand.npy', photos)\n",
        "save('/content/drive/MyDrive/data_train/rightHand.npy', labels)"
      ],
      "metadata": {
        "colab": {
          "base_uri": "https://localhost:8080/"
        },
        "id": "o1ahJ3Pe91hb",
        "outputId": "fb8aa3ab-8bd5-4e90-c629-86680c0961cc"
      },
      "execution_count": null,
      "outputs": [
        {
          "output_type": "stream",
          "name": "stdout",
          "text": [
            "(2600, 32, 32, 3) (2600,)\n"
          ]
        }
      ]
    },
    {
      "cell_type": "code",
      "source": [
        "# Split data into train & test\n",
        "from sklearn.model_selection import train_test_split\n",
        "\n",
        "x_train, x_test, y_train, y_test = train_test_split(photos, labels, test_size=0.2, random_state=42)"
      ],
      "metadata": {
        "id": "RQjgwTya-Vhy"
      },
      "execution_count": null,
      "outputs": []
    },
    {
      "cell_type": "code",
      "source": [
        "print(x_train.shape)\n",
        "print(y_train.shape)\n",
        "print(x_test.shape)\n",
        "print(y_test.shape)"
      ],
      "metadata": {
        "colab": {
          "base_uri": "https://localhost:8080/"
        },
        "id": "Cl4e9QcA_KxM",
        "outputId": "db633fb6-d986-47ac-af5b-19de68bd6b55"
      },
      "execution_count": null,
      "outputs": [
        {
          "output_type": "stream",
          "name": "stdout",
          "text": [
            "(2080, 32, 32, 3)\n",
            "(2080,)\n",
            "(520, 32, 32, 3)\n",
            "(520,)\n"
          ]
        }
      ]
    },
    {
      "cell_type": "code",
      "source": [
        "x_train = x_train.reshape((2080, 32, 32, 3))\n",
        "x_train = x_train.astype('float32')/255\n",
        "\n",
        "x_test = x_test.reshape((520, 32, 32, 3))\n",
        "x_test = x_test.astype('float32')/255"
      ],
      "metadata": {
        "id": "S3lYAonI_OVn"
      },
      "execution_count": null,
      "outputs": []
    },
    {
      "cell_type": "code",
      "source": [
        "from keras.utils import to_categorical\n",
        "\n",
        "y_train = to_categorical(y_train, 3)\n",
        "y_test = to_categorical(y_test, 3)"
      ],
      "metadata": {
        "id": "vsFaJrvj_X9z"
      },
      "execution_count": null,
      "outputs": []
    },
    {
      "cell_type": "code",
      "execution_count": null,
      "metadata": {
        "id": "oBHwV3GRCmba"
      },
      "outputs": [],
      "source": [
        "from keras.models import Sequential,Model\n",
        "from keras.layers import Dense,Flatten,Dropout,Conv2D,MaxPooling2D,Normalization,Input\n",
        "from keras.optimizers import Adam\n",
        "from keras import losses\n",
        "\n",
        "loss = losses\n",
        "batch_size = 64\n",
        "epochs = 40\n",
        "classes = 3"
      ]
    },
    {
      "cell_type": "code",
      "source": [
        "from keras.layers import LeakyReLU\n",
        "model = Sequential()\n",
        "model.add(Conv2D(32, kernel_size = (3,3), activation = 'linear', input_shape = (32, 32, 3), padding= 'same'))\n",
        "model.add(LeakyReLU(alpha = 0.1))\n",
        "\n",
        "model.add(MaxPooling2D((2,2), padding = 'same'))\n",
        "model.add(Conv2D(64, (3,3), activation = 'linear', padding = 'same'))\n",
        "model.add(Conv2D(64, (3,3), activation = 'linear', padding = 'same'))\n",
        "model.add(LeakyReLU(alpha = 0.1))\n",
        "\n",
        "model.add(MaxPooling2D((2,2), padding = 'same'))\n",
        "model.add(Conv2D(128, (3,3), activation = 'linear', padding = 'same'))\n",
        "model.add(LeakyReLU(alpha = 0.1))\n",
        "\n",
        "model.add(MaxPooling2D((2,2), padding = 'same'))\n",
        "model.add(Conv2D(256, (3,3), activation = 'linear', padding = 'same'))\n",
        "model.add(LeakyReLU(alpha = 0.1))\n",
        "\n",
        "model.add(MaxPooling2D((2,2), padding = 'same'))\n",
        "model.add(Conv2D(512, (3,3), activation = 'linear', padding = 'same'))\n",
        "model.add(LeakyReLU(alpha = 0.1))\n",
        "\n",
        "model.add(MaxPooling2D((2,2), padding = 'same'))\n",
        "model.add(Conv2D(1024, (3,3), activation = 'linear', padding = 'same'))\n",
        "model.add(LeakyReLU(alpha = 0.1))"
      ],
      "metadata": {
        "id": "jZMItKPmiBNs"
      },
      "execution_count": null,
      "outputs": []
    },
    {
      "cell_type": "code",
      "source": [
        "#Đưa vào ANN, bộ ANN để phân loại:\n",
        "from keras.losses import categorical_crossentropy\n",
        "model.add(Flatten())\n",
        "model.add(Dense(1024, activation = 'linear'))#lớp ẩn có 1024 lớp\n",
        "\n",
        "model.add(Dense(classes, activation = 'softmax'))\n",
        "model.summary()"
      ],
      "metadata": {
        "colab": {
          "base_uri": "https://localhost:8080/"
        },
        "id": "Ze6i3MIBdp7V",
        "outputId": "e4c27771-6ece-4a42-f48c-6c3d0c7ee815"
      },
      "execution_count": null,
      "outputs": [
        {
          "output_type": "stream",
          "name": "stdout",
          "text": [
            "Model: \"sequential_6\"\n",
            "_________________________________________________________________\n",
            " Layer (type)                Output Shape              Param #   \n",
            "=================================================================\n",
            " conv2d_42 (Conv2D)          (None, 32, 32, 32)        896       \n",
            "                                                                 \n",
            " leaky_re_lu_36 (LeakyReLU)  (None, 32, 32, 32)        0         \n",
            "                                                                 \n",
            " max_pooling2d_30 (MaxPoolin  (None, 16, 16, 32)       0         \n",
            " g2D)                                                            \n",
            "                                                                 \n",
            " conv2d_43 (Conv2D)          (None, 16, 16, 64)        18496     \n",
            "                                                                 \n",
            " conv2d_44 (Conv2D)          (None, 16, 16, 64)        36928     \n",
            "                                                                 \n",
            " leaky_re_lu_37 (LeakyReLU)  (None, 16, 16, 64)        0         \n",
            "                                                                 \n",
            " max_pooling2d_31 (MaxPoolin  (None, 8, 8, 64)         0         \n",
            " g2D)                                                            \n",
            "                                                                 \n",
            " conv2d_45 (Conv2D)          (None, 8, 8, 128)         73856     \n",
            "                                                                 \n",
            " leaky_re_lu_38 (LeakyReLU)  (None, 8, 8, 128)         0         \n",
            "                                                                 \n",
            " max_pooling2d_32 (MaxPoolin  (None, 4, 4, 128)        0         \n",
            " g2D)                                                            \n",
            "                                                                 \n",
            " conv2d_46 (Conv2D)          (None, 4, 4, 256)         295168    \n",
            "                                                                 \n",
            " leaky_re_lu_39 (LeakyReLU)  (None, 4, 4, 256)         0         \n",
            "                                                                 \n",
            " max_pooling2d_33 (MaxPoolin  (None, 2, 2, 256)        0         \n",
            " g2D)                                                            \n",
            "                                                                 \n",
            " conv2d_47 (Conv2D)          (None, 2, 2, 512)         1180160   \n",
            "                                                                 \n",
            " leaky_re_lu_40 (LeakyReLU)  (None, 2, 2, 512)         0         \n",
            "                                                                 \n",
            " max_pooling2d_34 (MaxPoolin  (None, 1, 1, 512)        0         \n",
            " g2D)                                                            \n",
            "                                                                 \n",
            " conv2d_48 (Conv2D)          (None, 1, 1, 1024)        4719616   \n",
            "                                                                 \n",
            " leaky_re_lu_41 (LeakyReLU)  (None, 1, 1, 1024)        0         \n",
            "                                                                 \n",
            " flatten_6 (Flatten)         (None, 1024)              0         \n",
            "                                                                 \n",
            " dense_12 (Dense)            (None, 1024)              1049600   \n",
            "                                                                 \n",
            " dense_13 (Dense)            (None, 3)                 3075      \n",
            "                                                                 \n",
            "=================================================================\n",
            "Total params: 7,377,795\n",
            "Trainable params: 7,377,795\n",
            "Non-trainable params: 0\n",
            "_________________________________________________________________\n"
          ]
        }
      ]
    },
    {
      "cell_type": "code",
      "source": [
        "#Compile:\n",
        "model.compile(optimizer = 'adam', loss = 'categorical_crossentropy', metrics = ['accuracy'])\n",
        "train = model.fit(x_train, y_train, batch_size= batch_size, epochs= epochs, verbose= 1)"
      ],
      "metadata": {
        "id": "yUnw31vGdtF0",
        "colab": {
          "base_uri": "https://localhost:8080/"
        },
        "outputId": "b2f87584-84a7-46a6-a472-39c0daeb16c3"
      },
      "execution_count": null,
      "outputs": [
        {
          "output_type": "stream",
          "name": "stdout",
          "text": [
            "Epoch 1/40\n",
            "33/33 [==============================] - 5s 16ms/step - loss: 0.7525 - accuracy: 0.4913\n",
            "Epoch 2/40\n",
            "33/33 [==============================] - 0s 13ms/step - loss: 0.7029 - accuracy: 0.4918\n",
            "Epoch 3/40\n",
            "33/33 [==============================] - 0s 12ms/step - loss: 0.7000 - accuracy: 0.4923\n",
            "Epoch 4/40\n",
            "33/33 [==============================] - 0s 12ms/step - loss: 0.6943 - accuracy: 0.5077\n",
            "Epoch 5/40\n",
            "33/33 [==============================] - 0s 12ms/step - loss: 0.6963 - accuracy: 0.4904\n",
            "Epoch 6/40\n",
            "33/33 [==============================] - 0s 13ms/step - loss: 0.6963 - accuracy: 0.5048\n",
            "Epoch 7/40\n",
            "33/33 [==============================] - 0s 12ms/step - loss: 0.6982 - accuracy: 0.4981\n",
            "Epoch 8/40\n",
            "33/33 [==============================] - 0s 13ms/step - loss: 0.7012 - accuracy: 0.4875\n",
            "Epoch 9/40\n",
            "33/33 [==============================] - 0s 13ms/step - loss: 0.6957 - accuracy: 0.4894\n",
            "Epoch 10/40\n",
            "33/33 [==============================] - 0s 13ms/step - loss: 0.6957 - accuracy: 0.5067\n",
            "Epoch 11/40\n",
            "33/33 [==============================] - 0s 13ms/step - loss: 0.6984 - accuracy: 0.4894\n",
            "Epoch 12/40\n",
            "33/33 [==============================] - 0s 13ms/step - loss: 0.6957 - accuracy: 0.4808\n",
            "Epoch 13/40\n",
            "33/33 [==============================] - 0s 13ms/step - loss: 0.6943 - accuracy: 0.5125\n",
            "Epoch 14/40\n",
            "33/33 [==============================] - 0s 13ms/step - loss: 0.6948 - accuracy: 0.5135\n",
            "Epoch 15/40\n",
            "33/33 [==============================] - 0s 13ms/step - loss: 0.7008 - accuracy: 0.5115\n",
            "Epoch 16/40\n",
            "33/33 [==============================] - 0s 12ms/step - loss: 0.6985 - accuracy: 0.4962\n",
            "Epoch 17/40\n",
            "33/33 [==============================] - 0s 12ms/step - loss: 0.6954 - accuracy: 0.4918\n",
            "Epoch 18/40\n",
            "33/33 [==============================] - 0s 12ms/step - loss: 0.6959 - accuracy: 0.4947\n",
            "Epoch 19/40\n",
            "33/33 [==============================] - 0s 12ms/step - loss: 0.6949 - accuracy: 0.4865\n",
            "Epoch 20/40\n",
            "33/33 [==============================] - 0s 12ms/step - loss: 0.6954 - accuracy: 0.4904\n",
            "Epoch 21/40\n",
            "33/33 [==============================] - 0s 12ms/step - loss: 0.6962 - accuracy: 0.5115\n",
            "Epoch 22/40\n",
            "33/33 [==============================] - 0s 12ms/step - loss: 0.6947 - accuracy: 0.4904\n",
            "Epoch 23/40\n",
            "33/33 [==============================] - 0s 13ms/step - loss: 0.6939 - accuracy: 0.5029\n",
            "Epoch 24/40\n",
            "33/33 [==============================] - 0s 12ms/step - loss: 0.6940 - accuracy: 0.4995\n",
            "Epoch 25/40\n",
            "33/33 [==============================] - 0s 13ms/step - loss: 0.7131 - accuracy: 0.5159\n",
            "Epoch 26/40\n",
            "33/33 [==============================] - 0s 12ms/step - loss: 88.3182 - accuracy: 0.4524\n",
            "Epoch 27/40\n",
            "33/33 [==============================] - 0s 13ms/step - loss: 1351.3622 - accuracy: 0.4495\n",
            "Epoch 28/40\n",
            "33/33 [==============================] - 0s 13ms/step - loss: 3885.1694 - accuracy: 0.4904\n",
            "Epoch 29/40\n",
            "33/33 [==============================] - 0s 14ms/step - loss: 48.4500 - accuracy: 0.5048\n",
            "Epoch 30/40\n",
            "33/33 [==============================] - 0s 13ms/step - loss: 1.5286 - accuracy: 0.5106\n",
            "Epoch 31/40\n",
            "33/33 [==============================] - 0s 14ms/step - loss: 0.8646 - accuracy: 0.4894\n",
            "Epoch 32/40\n",
            "33/33 [==============================] - 0s 13ms/step - loss: 0.8893 - accuracy: 0.5038\n",
            "Epoch 33/40\n",
            "33/33 [==============================] - 0s 13ms/step - loss: 0.8380 - accuracy: 0.5091\n",
            "Epoch 34/40\n",
            "33/33 [==============================] - 0s 14ms/step - loss: 1.0845 - accuracy: 0.5106\n",
            "Epoch 35/40\n",
            "33/33 [==============================] - 0s 13ms/step - loss: 0.8533 - accuracy: 0.5212\n",
            "Epoch 36/40\n",
            "33/33 [==============================] - 0s 13ms/step - loss: 0.7470 - accuracy: 0.5216\n",
            "Epoch 37/40\n",
            "33/33 [==============================] - 0s 13ms/step - loss: 0.7509 - accuracy: 0.5202\n",
            "Epoch 38/40\n",
            "33/33 [==============================] - 0s 13ms/step - loss: 0.8340 - accuracy: 0.5125\n",
            "Epoch 39/40\n",
            "33/33 [==============================] - 0s 12ms/step - loss: 0.9347 - accuracy: 0.5010\n",
            "Epoch 40/40\n",
            "33/33 [==============================] - 0s 13ms/step - loss: 0.7068 - accuracy: 0.5490\n"
          ]
        }
      ]
    },
    {
      "cell_type": "code",
      "source": [
        "# Evaluate model\n",
        "test_loss, test_acc = model.evaluate(x_test, y_test)\n",
        "print('Test accuracy:', test_acc)"
      ],
      "metadata": {
        "id": "JtlMhwm0TKyv",
        "colab": {
          "base_uri": "https://localhost:8080/"
        },
        "outputId": "31d4bb28-f4f8-42b3-d67c-c89a320a45d8"
      },
      "execution_count": null,
      "outputs": [
        {
          "output_type": "stream",
          "name": "stdout",
          "text": [
            "17/17 [==============================] - 0s 7ms/step - loss: 0.7368 - accuracy: 0.5135\n",
            "Test accuracy: 0.5134615302085876\n"
          ]
        }
      ]
    },
    {
      "cell_type": "code",
      "source": [
        "#lưu data\n",
        "model.save('/content/drive/MyDrive/data_train/ModelChiTay.h5')"
      ],
      "metadata": {
        "id": "XGc2Uzh4h9h6"
      },
      "execution_count": null,
      "outputs": []
    },
    {
      "cell_type": "code",
      "source": [
        "#thu nghiem\n",
        "from keras.utils import load_img\n",
        "from keras.utils import img_to_array\n",
        "import matplotlib.pyplot as plt\n",
        "import numpy as np\n",
        "\n",
        "img = load_img('/content/drive/chiTayTest.JPG', target_size=(32, 32, 3))\n",
        "plt.imshow(img)\n",
        "img = img_to_array(img)\n",
        "img = img.reshape(1, 32, 32, 3)\n",
        "img = img.astype('float32')\n",
        "img = img/255\n",
        "photo=np.expand_dims(img,axis=0)\n",
        "predicted_label = (model.predict(img).argmax())\n",
        "\n",
        "class_name=['','leftRich', 'rightPoor']\n",
        "print(class_name[predicted_label])\n",
        "plt.show()\n"
      ],
      "metadata": {
        "colab": {
          "base_uri": "https://localhost:8080/",
          "height": 465
        },
        "id": "UfvF0F7yJAMS",
        "outputId": "ec605dc4-622f-45fe-9190-11c2348bb341"
      },
      "execution_count": null,
      "outputs": [
        {
          "output_type": "stream",
          "name": "stdout",
          "text": [
            "1/1 [==============================] - 0s 19ms/step\n",
            "leftRich\n"
          ]
        },
        {
          "output_type": "display_data",
          "data": {
            "text/plain": [
              "<Figure size 640x480 with 1 Axes>"
            ],
            "image/png": "[encoded data removed]"
          },
          "metadata": {}
        }
      ]
    }
  ]
}